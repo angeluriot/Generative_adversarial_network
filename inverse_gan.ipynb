{
 "cells": [
  {
   "attachments": {},
   "cell_type": "markdown",
   "metadata": {},
   "source": [
    "# Inverse GAN"
   ]
  },
  {
   "attachments": {},
   "cell_type": "markdown",
   "metadata": {},
   "source": [
    "### Imports"
   ]
  },
  {
   "cell_type": "code",
   "execution_count": null,
   "metadata": {},
   "outputs": [],
   "source": [
    "from PIL import Image\n",
    "import numpy as np\n",
    "import tensorflow as tf\n",
    "\n",
    "from gan.settings import *\n",
    "from gan import utils\n",
    "from gan.callbacks import *\n",
    "from gan.model import GAN\n",
    "\n",
    "utils.reset_rand()"
   ]
  },
  {
   "attachments": {},
   "cell_type": "markdown",
   "metadata": {},
   "source": [
    "### Check GPU"
   ]
  },
  {
   "cell_type": "code",
   "execution_count": null,
   "metadata": {},
   "outputs": [],
   "source": [
    "gpus = tf.config.experimental.list_physical_devices('GPU')\n",
    "\n",
    "if gpus:\n",
    "\n",
    "\ttry:\n",
    "\t\ttf.config.experimental.set_visible_devices(gpus[0], 'GPU')\n",
    "\t\tprint('Using GPU :)')\n",
    "\n",
    "\texcept RuntimeError as e:\n",
    "\t\tprint(e)\n",
    "\n",
    "else:\n",
    "\tprint('Using CPU :(')"
   ]
  },
  {
   "attachments": {},
   "cell_type": "markdown",
   "metadata": {},
   "source": [
    "### Input image"
   ]
  },
  {
   "cell_type": "code",
   "execution_count": null,
   "metadata": {},
   "outputs": [],
   "source": [
    "IMAGE_PATH = './image.png'\n",
    "\n",
    "image = np.array([np.array(Image.open(IMAGE_PATH).convert('RGB'))])\n",
    "dataset = tf.data.Dataset.from_tensors(image).repeat(SAVE_FREQUENCY)"
   ]
  },
  {
   "attachments": {},
   "cell_type": "markdown",
   "metadata": {},
   "source": [
    "### Model"
   ]
  },
  {
   "cell_type": "code",
   "execution_count": null,
   "metadata": {},
   "outputs": [],
   "source": [
    "gan = GAN(train_seed = True)\n",
    "gan.compile()\n",
    "gan.summary()"
   ]
  },
  {
   "attachments": {},
   "cell_type": "markdown",
   "metadata": {},
   "source": [
    "### Training"
   ]
  },
  {
   "cell_type": "code",
   "execution_count": null,
   "metadata": {},
   "outputs": [],
   "source": [
    "history = gan.fit(\n",
    "\tdataset,\n",
    "\tbatch_size = 1,\n",
    "\tepochs = NB_EPOCHS,\n",
    "\tshuffle = False,\n",
    "\tcallbacks = [\n",
    "\t\tSaveSamples(None, None, train_seed = True)\n",
    "\t]\n",
    ")"
   ]
  }
 ],
 "metadata": {
  "kernelspec": {
   "display_name": "venv",
   "language": "python",
   "name": "python3"
  },
  "language_info": {
   "name": "python",
   "version": "3.10.11"
  },
  "orig_nbformat": 4
 },
 "nbformat": 4,
 "nbformat_minor": 2
}
