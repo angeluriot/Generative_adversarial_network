{
 "cells": [
  {
   "attachments": {},
   "cell_type": "markdown",
   "metadata": {},
   "source": [
    "# Generate the images for a style mixing interpolation video"
   ]
  },
  {
   "attachments": {},
   "cell_type": "markdown",
   "metadata": {},
   "source": [
    "### Imports"
   ]
  },
  {
   "cell_type": "code",
   "execution_count": null,
   "metadata": {},
   "outputs": [],
   "source": [
    "import sys\n",
    "sys.path.append('../')\n",
    "\n",
    "import os\n",
    "import torch\n",
    "import matplotlib.pyplot as plt\n",
    "from PIL import Image\n",
    "import numpy as np\n",
    "from scipy.interpolate import interp1d\n",
    "\n",
    "from training.generator import Generator\n",
    "from training import utils\n",
    "from training.settings import *\n",
    "\n",
    "utils.reset_rand()"
   ]
  },
  {
   "attachments": {},
   "cell_type": "markdown",
   "metadata": {},
   "source": [
    "### Check GPU"
   ]
  },
  {
   "cell_type": "code",
   "execution_count": null,
   "metadata": {},
   "outputs": [],
   "source": [
    "utils.check_gpu()"
   ]
  },
  {
   "attachments": {},
   "cell_type": "markdown",
   "metadata": {},
   "source": [
    "### Import the model"
   ]
  },
  {
   "cell_type": "code",
   "execution_count": null,
   "metadata": {},
   "outputs": [],
   "source": [
    "MODEL_PATH = 'models/faces_256.pt'\n",
    "\n",
    "model = Generator().to(DEVICE)\n",
    "model.load_state_dict(torch.load(os.path.join('..', MODEL_PATH), map_location = DEVICE))\n",
    "model.eval()\n",
    "model.requires_grad_(False)"
   ]
  },
  {
   "attachments": {},
   "cell_type": "markdown",
   "metadata": {},
   "source": [
    "### Mean W image"
   ]
  },
  {
   "cell_type": "code",
   "execution_count": null,
   "metadata": {},
   "outputs": [],
   "source": [
    "image = model.generate_one(0.0)\n",
    "\n",
    "plt.imshow(image)\n",
    "plt.axis('off')\n",
    "plt.show()"
   ]
  },
  {
   "attachments": {},
   "cell_type": "markdown",
   "metadata": {},
   "source": [
    "### Settings"
   ]
  },
  {
   "cell_type": "code",
   "execution_count": null,
   "metadata": {},
   "outputs": [],
   "source": [
    "SAVE_DIR = 'style_mixing'\t# Directory to save the images to\n",
    "NB_IMAGES = 4\t\t\t\t# Number of images to style mix\n",
    "NB_SEEDS = 15\t\t\t\t# Number of seeds to use for the interpolation\n",
    "SEED_TIME = 1.5\t\t\t\t# Time to use for the interpolation of one seed\n",
    "FRAME_RATE = 30\t\t\t\t# Frame rate of the video\n",
    "MIX_POINT = 2\t\t\t\t# Point of the interpolation to mix the two seeds\n",
    "INTERPOLATED_FIRST = True\t# Put the interpolated seed on the first part\n",
    "PSI = 0.5\t\t\t\t\t# Psi value to use for the generation"
   ]
  },
  {
   "attachments": {},
   "cell_type": "markdown",
   "metadata": {},
   "source": [
    "### Generate images"
   ]
  },
  {
   "cell_type": "code",
   "execution_count": null,
   "metadata": {},
   "outputs": [],
   "source": [
    "seed_frames = int(SEED_TIME * FRAME_RATE)\n",
    "\n",
    "print('Interpolated image')\n",
    "\n",
    "w_seeds = model.gen_w(NB_SEEDS, psi = PSI).detach().to('cpu').numpy()\n",
    "noise_seeds = model.gen_noise(NB_SEEDS)\n",
    "\n",
    "x = np.arange(-NB_SEEDS * 2, NB_SEEDS * 3)\n",
    "y = np.tile(w_seeds, [5, 1])\n",
    "w_interp = interp1d(x, y, kind = 'cubic', axis = 0)\n",
    "\n",
    "noise_interps = []\n",
    "\n",
    "for i in range(len(noise_seeds)):\n",
    "\n",
    "\tnoise_seeds[i] = noise_seeds[i].detach().to('cpu').numpy()\n",
    "\n",
    "\tx = np.arange(-NB_SEEDS * 2, NB_SEEDS * 3)\n",
    "\ty = np.tile(noise_seeds[i], [5, 1, 1, 1])\n",
    "\n",
    "\tnoise_interps.append(interp1d(x, y, kind = 'cubic', axis = 0))\n",
    "\n",
    "w = []\n",
    "noise = []\n",
    "\n",
    "for frame in range(NB_SEEDS * seed_frames):\n",
    "\tw.append(w_interp(frame / float(seed_frames)))\n",
    "\n",
    "for interp in noise_interps:\n",
    "\tnoise.append([interp(frame / float(seed_frames)) for frame in range(NB_SEEDS * seed_frames)])\n",
    "\n",
    "w = torch.as_tensor(np.array(w), dtype = torch.float32, device = DEVICE)\n",
    "noise = [torch.as_tensor(np.array(n), dtype = torch.float32, device = DEVICE) for n in noise]\n",
    "\n",
    "interpolated_generation = model.w_to_images(w, noise).detach().to('cpu').numpy()\n",
    "generations = []\n",
    "style_mix_generations = []\n",
    "noise_mix_point = int((MIX_POINT / NB_W) * NB_NOISE)\n",
    "\n",
    "for i in range(NB_IMAGES):\n",
    "\n",
    "\tprint(f'Style mixing image {i + 1}')\n",
    "\n",
    "\timage_w = model.gen_w(1, psi = PSI)\n",
    "\timage_noise = model.gen_noise(1)\n",
    "\n",
    "\tgenerations.append(model.w_to_images(image_w, image_noise).detach().to('cpu').numpy()[0])\n",
    "\n",
    "\timage_w = image_w.repeat((len(w), 1))\n",
    "\timage_noise = [n.repeat((len(w), 1, 1, 1)) for n in image_noise]\n",
    "\n",
    "\tif INTERPOLATED_FIRST:\n",
    "\t\timage_w = model.style_mix(w, image_w, MIX_POINT)\n",
    "\t\timage_noise = noise[:noise_mix_point] + image_noise[noise_mix_point:]\n",
    "\telse:\n",
    "\t\timage_w = model.style_mix(image_w, w, MIX_POINT)\n",
    "\t\timage_noise = image_noise[:noise_mix_point] + noise[noise_mix_point:]\n",
    "\n",
    "\tstyle_mix_generations.append(model.w_to_images(image_w, image_noise).detach().to('cpu').numpy())\n",
    "\n",
    "print(\"Saving images\")\n",
    "\n",
    "if not os.path.exists(os.path.join('..', SAVE_DIR)):\n",
    "\tos.mkdir(os.path.join('..', SAVE_DIR))\n",
    "\n",
    "for i in range(len(w)):\n",
    "\n",
    "\timage = [np.ones((NB_CHANNELS, IMAGE_SIZE, IMAGE_SIZE))]\n",
    "\n",
    "\tfor j in range(NB_IMAGES):\n",
    "\t\timage.append(generations[j])\n",
    "\n",
    "\timage.append(interpolated_generation[i])\n",
    "\n",
    "\tfor j in range(NB_IMAGES):\n",
    "\t\timage.append(style_mix_generations[j][i])\n",
    "\n",
    "\timage = utils.create_grid(np.array(image), (NB_IMAGES + 1, 2))\n",
    "\tImage.fromarray(image).save(os.path.join('..', SAVE_DIR, f'{i}.png'))"
   ]
  }
 ],
 "metadata": {
  "kernelspec": {
   "display_name": "venv",
   "language": "python",
   "name": "python3"
  },
  "language_info": {
   "codemirror_mode": {
    "name": "ipython",
    "version": 3
   },
   "file_extension": ".py",
   "mimetype": "text/x-python",
   "name": "python",
   "nbconvert_exporter": "python",
   "pygments_lexer": "ipython3",
   "version": "3.11.2"
  },
  "orig_nbformat": 4
 },
 "nbformat": 4,
 "nbformat_minor": 2
}
