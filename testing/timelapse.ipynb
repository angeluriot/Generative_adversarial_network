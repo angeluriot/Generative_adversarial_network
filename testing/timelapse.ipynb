{
 "cells": [
  {
   "attachments": {},
   "cell_type": "markdown",
   "metadata": {},
   "source": [
    "# Generate a timelapse of the training"
   ]
  },
  {
   "attachments": {},
   "cell_type": "markdown",
   "metadata": {},
   "source": [
    "### Imports"
   ]
  },
  {
   "cell_type": "code",
   "execution_count": null,
   "metadata": {},
   "outputs": [],
   "source": [
    "import sys\n",
    "sys.path.append('../')\n",
    "\n",
    "import os\n",
    "import torch\n",
    "import matplotlib.pyplot as plt\n",
    "from PIL import Image\n",
    "import numpy as np\n",
    "from scipy.interpolate import interp1d\n",
    "\n",
    "from training.generator import Generator\n",
    "from training import utils\n",
    "from training.settings import *\n",
    "\n",
    "utils.reset_rand()"
   ]
  },
  {
   "attachments": {},
   "cell_type": "markdown",
   "metadata": {},
   "source": [
    "### Check GPU"
   ]
  },
  {
   "cell_type": "code",
   "execution_count": null,
   "metadata": {},
   "outputs": [],
   "source": [
    "utils.check_gpu()"
   ]
  },
  {
   "attachments": {},
   "cell_type": "markdown",
   "metadata": {},
   "source": [
    "### Settings"
   ]
  },
  {
   "cell_type": "code",
   "execution_count": null,
   "metadata": {},
   "outputs": [],
   "source": [
    "MODELS_DIR = 'output/models'\t# Directory containing the models\n",
    "SAVE_DIR = 'timelapse'\t\t\t# Directory to save the images to\n",
    "SHAPE = (4, 3)\t\t\t\t\t# Shape of the grid of images\n",
    "IMAGES_PER_MODEL = 8\t\t\t# Number of images to generate per model\n",
    "PSI = 0.5\t\t\t\t\t\t# Psi value to use for the generation"
   ]
  },
  {
   "attachments": {},
   "cell_type": "markdown",
   "metadata": {},
   "source": [
    "### Generate images"
   ]
  },
  {
   "cell_type": "code",
   "execution_count": null,
   "metadata": {},
   "outputs": [],
   "source": [
    "z = Generator.gen_z(SHAPE[0] * SHAPE[1])\n",
    "noise = Generator.gen_noise(SHAPE[0] * SHAPE[1])\n",
    "\n",
    "models = os.listdir(os.path.join('..', MODELS_DIR))\n",
    "models.sort(key = lambda x: int(x[8:].split('_')[0]))\n",
    "\n",
    "model = Generator().to(DEVICE)\n",
    "model_1 = Generator().to(DEVICE)\n",
    "model_2 = Generator().to(DEVICE)\n",
    "i = 0\n",
    "\n",
    "images = []\n",
    "\n",
    "for i in range(len(models) - 1):\n",
    "\n",
    "\tprint(f'Model {i + 1}')\n",
    "\n",
    "\tmodel_1.load_state_dict(torch.load(os.path.join('..', MODELS_DIR, models[i], 'ma_generator.pt'), map_location = DEVICE))\n",
    "\tmodel_1.eval()\n",
    "\tmodel_1.requires_grad_(False)\n",
    "\n",
    "\tmodel_2.load_state_dict(torch.load(os.path.join('..', MODELS_DIR, models[i + 1], 'ma_generator.pt'), map_location = DEVICE))\n",
    "\tmodel_2.eval()\n",
    "\tmodel_2.requires_grad_(False)\n",
    "\n",
    "\tmodel_1.mean_w = None\n",
    "\tmodel_2.mean_w = None\n",
    "\n",
    "\tw_1 = model_1.z_to_w(z, psi = PSI)\n",
    "\tw_2 = model_2.z_to_w(z, psi = PSI)\n",
    "\n",
    "\twith torch.no_grad():\n",
    "\n",
    "\t\tfor j in range(IMAGES_PER_MODEL):\n",
    "\n",
    "\t\t\tfor p, p_1, p_2 in zip(model.parameters(), model_1.parameters(), model_2.parameters()):\n",
    "\t\t\t\tp.copy_(p_1.detach().lerp(p_2.detach(), j / IMAGES_PER_MODEL))\n",
    "\n",
    "\t\t\tfor b, b_1, b_2 in zip(model.parameters(), model_1.buffers(), model_2.buffers()):\n",
    "\t\t\t\tb.copy_(b_1.detach().lerp(b_2.detach(), j / IMAGES_PER_MODEL))\n",
    "\n",
    "\t\t\tmodel.eval()\n",
    "\t\t\tmodel.requires_grad_(False)\n",
    "\n",
    "\t\t\tw = w_1.detach().lerp(w_2.detach(), j / IMAGES_PER_MODEL)\n",
    "\n",
    "\t\t\timages.append(model.w_to_images(w, noise).detach().to('cpu').numpy())\n",
    "\n",
    "print(\"Saving images\")\n",
    "\n",
    "if not os.path.exists(os.path.join('..', SAVE_DIR)):\n",
    "\tos.mkdir(os.path.join('..', SAVE_DIR))\n",
    "\n",
    "for i in range(len(images)):\n",
    "\timg = utils.create_grid(images[i], SHAPE)\n",
    "\tImage.fromarray(img).save(os.path.join('..', SAVE_DIR, f'{i}.png'))"
   ]
  }
 ],
 "metadata": {
  "kernelspec": {
   "display_name": "venv",
   "language": "python",
   "name": "python3"
  },
  "language_info": {
   "codemirror_mode": {
    "name": "ipython",
    "version": 3
   },
   "file_extension": ".py",
   "mimetype": "text/x-python",
   "name": "python",
   "nbconvert_exporter": "python",
   "pygments_lexer": "ipython3",
   "version": "3.10.11"
  },
  "orig_nbformat": 4
 },
 "nbformat": 4,
 "nbformat_minor": 2
}
