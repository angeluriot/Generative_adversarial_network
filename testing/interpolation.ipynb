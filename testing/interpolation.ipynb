{
 "cells": [
  {
   "attachments": {},
   "cell_type": "markdown",
   "metadata": {},
   "source": [
    "# Generate the images for an interpolation video"
   ]
  },
  {
   "attachments": {},
   "cell_type": "markdown",
   "metadata": {},
   "source": [
    "### Imports"
   ]
  },
  {
   "cell_type": "code",
   "execution_count": null,
   "metadata": {},
   "outputs": [],
   "source": [
    "import sys\n",
    "sys.path.append('../')\n",
    "\n",
    "import os\n",
    "import torch\n",
    "import matplotlib.pyplot as plt\n",
    "from PIL import Image\n",
    "import numpy as np\n",
    "from scipy.interpolate import interp1d\n",
    "\n",
    "from training.generator import Generator\n",
    "from training import utils\n",
    "from training.settings import *\n",
    "\n",
    "utils.reset_rand()"
   ]
  },
  {
   "attachments": {},
   "cell_type": "markdown",
   "metadata": {},
   "source": [
    "### Check GPU"
   ]
  },
  {
   "cell_type": "code",
   "execution_count": null,
   "metadata": {},
   "outputs": [],
   "source": [
    "utils.check_gpu()"
   ]
  },
  {
   "attachments": {},
   "cell_type": "markdown",
   "metadata": {},
   "source": [
    "### Import the model"
   ]
  },
  {
   "cell_type": "code",
   "execution_count": null,
   "metadata": {},
   "outputs": [],
   "source": [
    "MODEL_PATH = 'output/last_model'\n",
    "\n",
    "model = Generator().to(DEVICE)\n",
    "model.load_state_dict(torch.load(os.path.join('..', MODEL_PATH, 'ma_generator.pt')))"
   ]
  },
  {
   "attachments": {},
   "cell_type": "markdown",
   "metadata": {},
   "source": [
    "### Mean W image"
   ]
  },
  {
   "cell_type": "code",
   "execution_count": null,
   "metadata": {},
   "outputs": [],
   "source": [
    "image = model.generate_one(0.0)\n",
    "\n",
    "plt.imshow(image)\n",
    "plt.axis('off')\n",
    "plt.show()"
   ]
  },
  {
   "attachments": {},
   "cell_type": "markdown",
   "metadata": {},
   "source": [
    "### Settings"
   ]
  },
  {
   "cell_type": "code",
   "execution_count": null,
   "metadata": {},
   "outputs": [],
   "source": [
    "SAVE_DIR = 'interpolation'\t\t# Directory to save the images to\n",
    "SHAPE = (3, 2)\t\t\t\t\t# Shape of the grid of images\n",
    "NB_SEEDS = 15\t\t\t\t\t# Number of seeds to use for the interpolation\n",
    "SEED_TIME = 1.5\t\t\t\t\t# Time to use for the interpolation of one seed\n",
    "FRAME_RATE = 30\t\t\t\t\t# Frame rate of the video\n",
    "STRENGTH = 2\t\t\t\t\t# Strength of the interpolation\n",
    "PSI = 0.5\t\t\t\t\t\t# Psi value to use for the generation"
   ]
  },
  {
   "attachments": {},
   "cell_type": "markdown",
   "metadata": {},
   "source": [
    "### Generate images"
   ]
  },
  {
   "cell_type": "code",
   "execution_count": null,
   "metadata": {},
   "outputs": [],
   "source": [
    "seed_frames = int(SEED_TIME * FRAME_RATE)\n",
    "global_generations = []\n",
    "\n",
    "for i in range(SHAPE[0] * SHAPE[1]):\n",
    "\n",
    "\tprint(\"Image:\", i + 1)\n",
    "\n",
    "\tw_seeds = model.gen_w(NB_SEEDS, psi = PSI).detach().to('cpu').numpy()\n",
    "\n",
    "\tx = np.arange(-NB_SEEDS * STRENGTH, NB_SEEDS * (STRENGTH + 1))\n",
    "\ty = np.tile(w_seeds, [STRENGTH * 2 + 1, 1])\n",
    "\tinterp = interp1d(x, y, kind = 'cubic', axis = 0)\n",
    "\n",
    "\tw = []\n",
    "\n",
    "\tfor frame in range(NB_SEEDS * seed_frames):\n",
    "\t\tw.append(interp(frame / float(seed_frames)))\n",
    "\n",
    "\tw = torch.as_tensor(np.array(w), dtype = torch.float32, device = DEVICE)\n",
    "\tnoise = model.gen_noise(len(w), same = True)\n",
    "\tgenerations = model.w_to_images(w, noise).detach().to('cpu').numpy()\n",
    "\tglobal_generations.append(generations)\n",
    "\n",
    "print(\"Saving images\")\n",
    "\n",
    "global_generations = np.array(global_generations)\n",
    "global_generations = np.transpose(global_generations, (1, 0, 2, 3, 4))\n",
    "\n",
    "if not os.path.exists(os.path.join('..', SAVE_DIR)):\n",
    "\tos.mkdir(os.path.join('..', SAVE_DIR))\n",
    "\n",
    "for i in range(global_generations.shape[0]):\n",
    "\timages = utils.create_grid(global_generations[i], SHAPE)\n",
    "\tImage.fromarray(images).save(os.path.join('..', SAVE_DIR, f'{i}.png'))"
   ]
  }
 ],
 "metadata": {
  "kernelspec": {
   "display_name": "venv",
   "language": "python",
   "name": "python3"
  },
  "language_info": {
   "codemirror_mode": {
    "name": "ipython",
    "version": 3
   },
   "file_extension": ".py",
   "mimetype": "text/x-python",
   "name": "python",
   "nbconvert_exporter": "python",
   "pygments_lexer": "ipython3",
   "version": "3.10.11"
  },
  "orig_nbformat": 4
 },
 "nbformat": 4,
 "nbformat_minor": 2
}
