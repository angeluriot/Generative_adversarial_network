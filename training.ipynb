{
 "cells": [
  {
   "cell_type": "markdown",
   "metadata": {},
   "source": [
    "# Training"
   ]
  },
  {
   "cell_type": "markdown",
   "metadata": {},
   "source": [
    "### Imports"
   ]
  },
  {
   "cell_type": "code",
   "execution_count": null,
   "metadata": {},
   "outputs": [],
   "source": [
    "import os\n",
    "import numpy as np\n",
    "import tensorflow as tf\n",
    "from tensorflow.keras import preprocessing\n",
    "\n",
    "from settings import *\n",
    "import utils\n",
    "from callbacks import *\n",
    "from gan import GAN\n",
    "\n",
    "utils.reset_rand()"
   ]
  },
  {
   "cell_type": "markdown",
   "metadata": {},
   "source": [
    "### Check GPU"
   ]
  },
  {
   "cell_type": "code",
   "execution_count": null,
   "metadata": {},
   "outputs": [],
   "source": [
    "gpus = tf.config.experimental.list_physical_devices(\"GPU\")\n",
    "\n",
    "if gpus:\n",
    "\n",
    "\ttry:\n",
    "\t\ttf.config.experimental.set_visible_devices(gpus[0], \"GPU\")\n",
    "\t\tprint(\"Using GPU :)\")\n",
    "\n",
    "\texcept RuntimeError as e:\n",
    "\t\tprint(e)\n",
    "\n",
    "else:\n",
    "\tprint(\"Using CPU :(\")"
   ]
  },
  {
   "cell_type": "markdown",
   "metadata": {},
   "source": [
    "### Dataset"
   ]
  },
  {
   "cell_type": "code",
   "execution_count": null,
   "metadata": {},
   "outputs": [],
   "source": [
    "dataset = preprocessing.image_dataset_from_directory(\n",
    "\tDATA_DIR,\n",
    "\tlabel_mode = None,\n",
    "\tcolor_mode = \"rgb\",\n",
    "\tbatch_size = BATCH_SIZE,\n",
    "\timage_size = (IMAGE_SIZE, IMAGE_SIZE),\n",
    "\tshuffle = True\n",
    ")\n",
    "\n",
    "dataset = dataset.map(utils.tf_norm_img)\n",
    "\n",
    "if FLIP_DATASET:\n",
    "\tflipped_dataset = dataset.map(tf.image.flip_left_right)\n",
    "\tdataset = dataset.concatenate(flipped_dataset)\n",
    "\tdataset = dataset.shuffle(BATCH_SIZE)\n",
    "\n",
    "NB_DATA = len(os.listdir(DATA_DIR)) * 2 if FLIP_DATASET else len(os.listdir(DATA_DIR))\n",
    "print(\"Dataset final size:\", NB_DATA)"
   ]
  },
  {
   "cell_type": "markdown",
   "metadata": {},
   "source": [
    "### Model"
   ]
  },
  {
   "cell_type": "code",
   "execution_count": null,
   "metadata": {},
   "outputs": [],
   "source": [
    "gan = GAN()\n",
    "gan.compile()\n",
    "gan.summary()"
   ]
  },
  {
   "cell_type": "markdown",
   "metadata": {},
   "source": [
    "### First run / Continue"
   ]
  },
  {
   "cell_type": "code",
   "execution_count": null,
   "metadata": {},
   "outputs": [],
   "source": [
    "save_found = gan.load_weights(MODELS_DIR)\n",
    "\n",
    "if save_found:\n",
    "\tsamples_z = np.load(os.path.join(OUTPUT_DIR, \"samples_z.npy\"))\n",
    "\tsamples_noise = np.load(os.path.join(OUTPUT_DIR, \"samples_noise.npy\"))\n",
    "\n",
    "else:\n",
    "\tsamples_z = np.random.normal(0., 1., (OUTPUT_SHAPE[0] * OUTPUT_SHAPE[1], LATENT_DIM))\n",
    "\tsamples_noise = np.random.normal(0., 1., ((NB_BLOCKS * 2) - 1, OUTPUT_SHAPE[0] * OUTPUT_SHAPE[1], IMAGE_SIZE, IMAGE_SIZE, 1))\n",
    "\n",
    "\tif not os.path.exists(OUTPUT_DIR):\n",
    "\t\tos.makedirs(OUTPUT_DIR)\n",
    "\n",
    "\tnp.save(os.path.join(OUTPUT_DIR, \"samples_z.npy\"), samples_z)\n",
    "\tnp.save(os.path.join(OUTPUT_DIR, \"samples_noise.npy\"), samples_noise)"
   ]
  },
  {
   "cell_type": "markdown",
   "metadata": {},
   "source": [
    "### Training"
   ]
  },
  {
   "cell_type": "code",
   "execution_count": null,
   "metadata": {
    "scrolled": false
   },
   "outputs": [],
   "source": [
    "history = gan.fit(\n",
    "\tdataset,\n",
    "\tbatch_size = BATCH_SIZE,\n",
    "\tepochs = NB_EPOCHS,\n",
    "\tshuffle = True,\n",
    "\tcallbacks = [\n",
    "\t\tUpdates(),\n",
    "\t\tSaveSamples(samples_z, samples_noise),\n",
    "\t\tSaveModels()\n",
    "\t]\n",
    ")"
   ]
  }
 ],
 "metadata": {
  "kernelspec": {
   "display_name": "venv",
   "language": "python",
   "name": "python3"
  },
  "language_info": {
   "codemirror_mode": {
    "name": "ipython",
    "version": 3
   },
   "file_extension": ".py",
   "mimetype": "text/x-python",
   "name": "python",
   "nbconvert_exporter": "python",
   "pygments_lexer": "ipython3",
   "version": "3.9.13"
  },
  "vscode": {
   "interpreter": {
    "hash": "7dc26219aa9f3ff1475f89dfde9802a67188480d81af861fc512482f0a9e031a"
   }
  }
 },
 "nbformat": 4,
 "nbformat_minor": 4
}
